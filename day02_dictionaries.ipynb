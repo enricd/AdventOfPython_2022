{
 "cells": [
  {
   "attachments": {},
   "cell_type": "markdown",
   "metadata": {},
   "source": [
    "## Advent of Python - Day 2\n",
    "### Dictionaries (Rock Paper Scissors)"
   ]
  },
  {
   "cell_type": "code",
   "execution_count": 18,
   "metadata": {},
   "outputs": [
    {
     "data": {
      "text/plain": [
       "{'shoes': 45, 'trouser': 10, 'shirts': 60}"
      ]
     },
     "execution_count": 18,
     "metadata": {},
     "output_type": "execute_result"
    }
   ],
   "source": [
    "# Create\n",
    "\n",
    "my_dict = {\"key1\": \"value1\", \"key2\": 2, \"key3\": [1, 2, 3]}\n",
    "\n",
    "my_dict = dict([(\"key1\", \"value1\"), (\"key2\", 2), (\"key3\", [1, 2, 3])])\n",
    "\n",
    "items = {\n",
    "    \"shoes\": 45, \n",
    "    \"trouser\": 10, \n",
    "    \"shirts\": 60\n",
    "    }\n",
    "items\n"
   ]
  },
  {
   "cell_type": "code",
   "execution_count": 8,
   "metadata": {},
   "outputs": [
    {
     "data": {
      "text/plain": [
       "(dict_keys(['shoes', 'trouser', 'shirts']), dict_values([45, 10, 60]))"
      ]
     },
     "execution_count": 8,
     "metadata": {},
     "output_type": "execute_result"
    }
   ],
   "source": [
    "# Read\n",
    "\n",
    "items[\"trouser\"]\n",
    "\n",
    "items.keys(), items.values()"
   ]
  },
  {
   "cell_type": "code",
   "execution_count": 9,
   "metadata": {},
   "outputs": [
    {
     "name": "stdout",
     "output_type": "stream",
     "text": [
      "shoes 45\n",
      "trouser 10\n",
      "shirts 60\n"
     ]
    }
   ],
   "source": [
    "for item in items.keys():\n",
    "    print(item, items[item])"
   ]
  },
  {
   "cell_type": "code",
   "execution_count": 11,
   "metadata": {},
   "outputs": [
    {
     "data": {
      "text/plain": [
       "42"
      ]
     },
     "execution_count": 11,
     "metadata": {},
     "output_type": "execute_result"
    }
   ],
   "source": [
    "# Update\n",
    "\n",
    "items[\"shoes\"] += 2\n",
    "items[\"shoes\"]"
   ]
  },
  {
   "cell_type": "code",
   "execution_count": 12,
   "metadata": {},
   "outputs": [
    {
     "data": {
      "text/plain": [
       "42"
      ]
     },
     "execution_count": 12,
     "metadata": {},
     "output_type": "execute_result"
    }
   ],
   "source": [
    "# Delete\n",
    "\n",
    "items.pop(\"shoes\")\n",
    "del items[\"trouser\"]\n",
    "items.clear()\n",
    "\n",
    "items"
   ]
  },
  {
   "cell_type": "code",
   "execution_count": 22,
   "metadata": {},
   "outputs": [],
   "source": [
    "# Structured example\n",
    "weather_db = {\n",
    "    \"Day\": [1, 2, 3, 4],\n",
    "    \"Temperature\": [21, 25, 23, 24], \n",
    "    \"Wind\": [5, 12, 5, 7],\n",
    "    \"Precipitation\": [0, 0, 40, 15],\n",
    "}\n",
    "\n",
    "# Semi-structured example / NoSQL\n",
    "users_db = {\n",
    "    \"83473\": {\n",
    "        \"name\": \"John\",\n",
    "        \"age\": 45,\n",
    "        \"email\": \"john@exmaple.com\",\n",
    "        \"website\": \"www.john.com\"\n",
    "    },\n",
    "    \"4850854\": {\n",
    "        \"name\": \"Mary\",\n",
    "        \"age\": 67\n",
    "    },\n",
    "    \"378457\": {\n",
    "        \"name\": \"Mike\",\n",
    "        \"address\": \"Tree Avenue, house 5\"\n",
    "    }\n",
    "}"
   ]
  },
  {
   "cell_type": "code",
   "execution_count": 31,
   "metadata": {},
   "outputs": [
    {
     "data": {
      "text/plain": [
       "21"
      ]
     },
     "execution_count": 31,
     "metadata": {},
     "output_type": "execute_result"
    }
   ],
   "source": [
    "weather_db[\"Temperature\"][0]"
   ]
  },
  {
   "cell_type": "code",
   "execution_count": 32,
   "metadata": {},
   "outputs": [
    {
     "data": {
      "text/plain": [
       "'Mary'"
      ]
     },
     "execution_count": 32,
     "metadata": {},
     "output_type": "execute_result"
    }
   ],
   "source": [
    "users_db[\"4850854\"][\"name\"]"
   ]
  },
  {
   "attachments": {},
   "cell_type": "markdown",
   "metadata": {},
   "source": [
    "### AoC - Day 2 Challenge\n",
    "#### Rock Paper Scissors\n",
    "\n",
    "https://adventofcode.com/2022/day/2"
   ]
  },
  {
   "cell_type": "code",
   "execution_count": 37,
   "metadata": {},
   "outputs": [],
   "source": [
    "with open(\"./data_inputs/day02_input.txt\") as f:\n",
    "    input_raw = f.read()\n",
    "\n",
    "input = input_raw.split(\"\\n\")"
   ]
  },
  {
   "cell_type": "code",
   "execution_count": null,
   "metadata": {},
   "outputs": [],
   "source": [
    "# ---- Part 1 ----\n",
    "\n",
    "# Elf:      A = Rock,       B = Paper,      C = Scissors\n",
    "# Us:       X = Rock(+1),   Y = Paper(+2),  Z = Scissors(+3)\n",
    "# Result:   Lose(+0),       Draw(+3),       Win(+6)\n",
    "\n",
    "total_score = 0\n",
    "\n",
    "for round in input:\n",
    "    elf = round[0] \n",
    "    me = round[2]\n",
    "\n",
    "    if elf == \"A\":\n",
    "        if me == \"X\":\n",
    "            total_score += (1 + 3)\n",
    "        elif me == \"Y\":\n",
    "            total_score += (2 + 6)\n",
    "        elif me == \"Z\":\n",
    "            total_score += (3 + 0)\n",
    "            \n",
    "    elif elf == \"B\":\n",
    "        if me == \"X\":\n",
    "            total_score += (1 + 0)\n",
    "        elif me == \"Y\":\n",
    "            total_score += (2 + 3)\n",
    "        elif me == \"Z\":\n",
    "            total_score += (3 + 6)\n",
    "\n",
    "    elif elf == \"C\":\n",
    "        if me == \"X\":\n",
    "            total_score += (1 + 6)\n",
    "        elif me == \"Y\":\n",
    "            total_score += (2 + 0)\n",
    "        elif me == \"Z\":\n",
    "            total_score += (3 + 3)"
   ]
  },
  {
   "cell_type": "code",
   "execution_count": 39,
   "metadata": {},
   "outputs": [
    {
     "data": {
      "text/plain": [
       "6"
      ]
     },
     "execution_count": 39,
     "metadata": {},
     "output_type": "execute_result"
    }
   ],
   "source": [
    "# Elf:      A = Rock,       B = Paper,      C = Scissors\n",
    "# Us:       X = Rock(+1),   Y = Paper(+2),  Z = Scissors(+3)\n",
    "# Result:   Lose(+0),       Draw(+3),       Win(+6)\n",
    "\n",
    "rules = {\n",
    "    \"A X\": 1 + 3, \n",
    "    \"A Y\": 2 + 6, \n",
    "    \"A Z\": 3 + 0,\n",
    "\n",
    "    \"B X\": 1 + 0,\n",
    "    \"B Y\": 2 + 3,\n",
    "    \"B Z\": 3 + 6,\n",
    "    \n",
    "    \"C X\": 1 + 6,\n",
    "    \"C Y\": 2 + 0,\n",
    "    \"C Z\": 3 + 3,\n",
    "}\n",
    "\n",
    "rules[\"C Z\"]"
   ]
  },
  {
   "cell_type": "code",
   "execution_count": 41,
   "metadata": {},
   "outputs": [
    {
     "name": "stdout",
     "output_type": "stream",
     "text": [
      "Result 1: 14264\n"
     ]
    }
   ],
   "source": [
    "total_score = 0\n",
    "\n",
    "for round in input:\n",
    "    total_score += rules[round]\n",
    "\n",
    "print(\"Result 1:\", total_score)\n",
    "    "
   ]
  },
  {
   "cell_type": "code",
   "execution_count": 43,
   "metadata": {},
   "outputs": [
    {
     "name": "stdout",
     "output_type": "stream",
     "text": [
      "Result 2: 12382\n"
     ]
    }
   ],
   "source": [
    "# ---- Part 2 ----\n",
    "\n",
    "# Elf:      A = Rock,       B = Paper,      C = Scissors\n",
    "# Us:       Rock(+1),       Paper(+2),      Scissors(+3)\n",
    "# Result:   X = Lose(+0),   Y = Draw(+3),   Z = Win(+6)\n",
    "\n",
    "rules2 = {\n",
    "    \"A X\": 3 + 0,\n",
    "    \"A Y\": 1 + 3,\n",
    "    \"A Z\": 2 + 6,\n",
    "\n",
    "    \"B X\": 1 + 0,\n",
    "    \"B Y\": 2 + 3,\n",
    "    \"B Z\": 3 + 6,\n",
    "\n",
    "    \"C X\": 2 + 0,\n",
    "    \"C Y\": 3 + 3,\n",
    "    \"C Z\": 1 + 6,\n",
    "}\n",
    "\n",
    "total_score2 = 0\n",
    "\n",
    "for round in input:\n",
    "    total_score2 += rules2[round]\n",
    "\n",
    "print(\"Result 2:\", total_score2)"
   ]
  },
  {
   "cell_type": "code",
   "execution_count": 45,
   "metadata": {},
   "outputs": [
    {
     "data": {
      "text/plain": [
       "-2275202388962763820"
      ]
     },
     "execution_count": 45,
     "metadata": {},
     "output_type": "execute_result"
    }
   ],
   "source": [
    "hash(\"A X\")"
   ]
  }
 ],
 "metadata": {
  "kernelspec": {
   "display_name": "Python 3",
   "language": "python",
   "name": "python3"
  },
  "language_info": {
   "codemirror_mode": {
    "name": "ipython",
    "version": 3
   },
   "file_extension": ".py",
   "mimetype": "text/x-python",
   "name": "python",
   "nbconvert_exporter": "python",
   "pygments_lexer": "ipython3",
   "version": "3.11.0"
  },
  "orig_nbformat": 4,
  "vscode": {
   "interpreter": {
    "hash": "3d1899a6c99b9db7e131d4b74e4e1b4f8aa84cf78ca3d48624777d2707d0553f"
   }
  }
 },
 "nbformat": 4,
 "nbformat_minor": 2
}
