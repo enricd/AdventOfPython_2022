{
 "cells": [
  {
   "cell_type": "code",
   "execution_count": 1,
   "metadata": {},
   "outputs": [],
   "source": [
    "# --- Basic Variable Types ---\n",
    "\n",
    "int_var = -5\n",
    "float_var = 23.56\n",
    "str_var = \"abc\"\n",
    "bool_var = True   # or False\n",
    "\n",
    "list_var = [1, 2.3, \"abcd\", bool_var]"
   ]
  },
  {
   "cell_type": "code",
   "execution_count": 8,
   "metadata": {},
   "outputs": [
    {
     "name": "stdout",
     "output_type": "stream",
     "text": [
      "8\n",
      "2\n",
      "15\n",
      "1.6666666666666667\n",
      "1\n",
      "2\n",
      "125\n"
     ]
    }
   ],
   "source": [
    "# --- Operators ---\n",
    "\n",
    "a = 5\n",
    "b = 3\n",
    "\n",
    "print(a + b)    # addition\n",
    "print(a - b)    # substraction\n",
    "print(a * b)    # multiplication\n",
    "print(a / b)    # division\n",
    "print(a // b)   # floor division\n",
    "print(a % b)    # modulus\n",
    "print(a ** b)   # exponent"
   ]
  },
  {
   "cell_type": "code",
   "execution_count": 9,
   "metadata": {},
   "outputs": [
    {
     "name": "stdout",
     "output_type": "stream",
     "text": [
      "False\n",
      "True\n",
      "True\n",
      "True\n",
      "False\n",
      "False\n"
     ]
    }
   ],
   "source": [
    "print(a == b)   # equal\n",
    "print(a != b)   # not equal\n",
    "print(a > b)    # greater than\n",
    "print(a >= b)   # greater than or equal to \n",
    "print(a < b)    # less than\n",
    "print(a <= b)   # less than or equal to "
   ]
  },
  {
   "cell_type": "code",
   "execution_count": 11,
   "metadata": {},
   "outputs": [
    {
     "name": "stdout",
     "output_type": "stream",
     "text": [
      "apple\n",
      "orange\n",
      "strawberry\n",
      "banana\n"
     ]
    }
   ],
   "source": [
    "# --- For and While Loops ---\n",
    "\n",
    "fruits = [\"apple\", \"orange\", \"strawberry\", \"banana\"]\n",
    "\n",
    "for fruit in fruits:\n",
    "    print(fruit)\n"
   ]
  },
  {
   "cell_type": "code",
   "execution_count": 18,
   "metadata": {},
   "outputs": [
    {
     "name": "stdout",
     "output_type": "stream",
     "text": [
      "0\n",
      "apple\n",
      "1\n",
      "orange\n",
      "2\n",
      "strawberry\n",
      "3\n",
      "banana\n"
     ]
    }
   ],
   "source": [
    "for i in range(len(fruits)):\n",
    "    print(i)\n",
    "    print(fruits[i])"
   ]
  },
  {
   "cell_type": "code",
   "execution_count": 19,
   "metadata": {},
   "outputs": [
    {
     "name": "stdout",
     "output_type": "stream",
     "text": [
      "1\n",
      "2\n",
      "3\n",
      "4\n",
      "5\n"
     ]
    }
   ],
   "source": [
    "x = 0\n",
    "while x < 5:\n",
    "    x += 1      # x = x + 1\n",
    "    print(x)"
   ]
  },
  {
   "cell_type": "code",
   "execution_count": 23,
   "metadata": {},
   "outputs": [],
   "source": [
    "# --- If Elif Else ---\n",
    "\n",
    "animal = \"dog\"\n",
    "\n",
    "if animal == \"cat\":\n",
    "    print(\"meow!\")"
   ]
  },
  {
   "cell_type": "code",
   "execution_count": 24,
   "metadata": {},
   "outputs": [
    {
     "name": "stdout",
     "output_type": "stream",
     "text": [
      "woof!\n"
     ]
    }
   ],
   "source": [
    "if animal == \"dog\":\n",
    "    print(\"woof!\")\n",
    "else:\n",
    "    print(\"meow!\")"
   ]
  },
  {
   "cell_type": "code",
   "execution_count": 25,
   "metadata": {},
   "outputs": [
    {
     "name": "stdout",
     "output_type": "stream",
     "text": [
      "woof!\n"
     ]
    }
   ],
   "source": [
    "if animal == \"bird\":\n",
    "    print(\"tweet!\")\n",
    "elif animal == \"dog\":\n",
    "    print(\"woof!\")\n",
    "else:\n",
    "    print(\"meow!\")"
   ]
  },
  {
   "cell_type": "code",
   "execution_count": 66,
   "metadata": {},
   "outputs": [],
   "source": [
    "# ----- Day 1 Challenge -----\n",
    "\n",
    "with open(\"./data_inputs/day01_input.txt\") as f:\n",
    "    input_raw = f.read()"
   ]
  },
  {
   "cell_type": "code",
   "execution_count": 67,
   "metadata": {},
   "outputs": [],
   "source": [
    "elves_list_pre = input_raw.split(\"\\n\\n\")"
   ]
  },
  {
   "cell_type": "code",
   "execution_count": 68,
   "metadata": {},
   "outputs": [],
   "source": [
    "elves_list = []\n",
    "\n",
    "for elf in elves_list_pre:\n",
    "    snacks_list = elf.split(\"\\n\")\n",
    "    new_snacks_list = []\n",
    "    for snack in snacks_list:\n",
    "        int_snack = int(snack)\n",
    "        new_snacks_list.append(int_snack)\n",
    "\n",
    "    elves_list.append(new_snacks_list)\n"
   ]
  },
  {
   "cell_type": "code",
   "execution_count": 60,
   "metadata": {},
   "outputs": [],
   "source": [
    "# ---- Part 1 ----\n",
    "\n",
    "elves_calories_list = []\n",
    "\n",
    "for elf in elves_list:\n",
    "    calories = 0\n",
    "    for snack in elf:\n",
    "        calories += snack\n",
    "\n",
    "    elves_calories_list.append(calories)"
   ]
  },
  {
   "cell_type": "code",
   "execution_count": 61,
   "metadata": {},
   "outputs": [
    {
     "name": "stdout",
     "output_type": "stream",
     "text": [
      "Result 1: 68467\n"
     ]
    }
   ],
   "source": [
    "max_calories = 0\n",
    "\n",
    "for elf_cal in elves_calories_list:\n",
    "    if max_calories < elf_cal:\n",
    "        max_calories = elf_cal\n",
    "\n",
    "print(\"Result 1:\", max_calories)\n"
   ]
  },
  {
   "cell_type": "code",
   "execution_count": 73,
   "metadata": {},
   "outputs": [
    {
     "name": "stdout",
     "output_type": "stream",
     "text": [
      "Result 2: 203420\n"
     ]
    }
   ],
   "source": [
    "# ---- Part 2 ----\n",
    "\n",
    "top3_max_calories = 0\n",
    "elves_calories_list_copy = elves_calories_list.copy()\n",
    "\n",
    "for j in range(3):\n",
    "    max_calories = 0\n",
    "    max_i = None\n",
    "\n",
    "    for i in range(len(elves_calories_list_copy)):\n",
    "        if max_calories < elves_calories_list_copy[i]:\n",
    "            max_calories = elves_calories_list_copy[i]\n",
    "            max_i = i\n",
    "\n",
    "    top3_max_calories += max_calories\n",
    "\n",
    "    elves_calories_list_copy[max_i] = 0\n",
    "\n",
    "print(\"Result 2:\", top3_max_calories)"
   ]
  }
 ],
 "metadata": {
  "kernelspec": {
   "display_name": "Python 3.11.0 64-bit",
   "language": "python",
   "name": "python3"
  },
  "language_info": {
   "codemirror_mode": {
    "name": "ipython",
    "version": 3
   },
   "file_extension": ".py",
   "mimetype": "text/x-python",
   "name": "python",
   "nbconvert_exporter": "python",
   "pygments_lexer": "ipython3",
   "version": "3.11.0"
  },
  "orig_nbformat": 4,
  "vscode": {
   "interpreter": {
    "hash": "3d1899a6c99b9db7e131d4b74e4e1b4f8aa84cf78ca3d48624777d2707d0553f"
   }
  }
 },
 "nbformat": 4,
 "nbformat_minor": 2
}
