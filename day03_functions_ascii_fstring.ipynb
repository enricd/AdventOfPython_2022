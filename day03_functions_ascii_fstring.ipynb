{
 "cells": [
  {
   "attachments": {},
   "cell_type": "markdown",
   "metadata": {},
   "source": [
    "## Advent of Python - Day 3\n",
    "### Functions, ASCII and f-strings (Rucksack Reorganization)"
   ]
  },
  {
   "cell_type": "code",
   "execution_count": 13,
   "metadata": {},
   "outputs": [
    {
     "data": {
      "text/plain": [
       "-11.16"
      ]
     },
     "execution_count": 13,
     "metadata": {},
     "output_type": "execute_result"
    }
   ],
   "source": [
    "# Functions\n",
    "\n",
    "def my_function():\n",
    "    print(\"hello\")\n",
    "\n",
    "def my_sum(a, b):\n",
    "    \"\"\"\n",
    "    Returns the sum of a and b\n",
    "\n",
    "    a\n",
    "        Integer or float value\n",
    "\n",
    "    b \n",
    "        Integer or float value\n",
    "    \"\"\"\n",
    "    return a + b\n",
    "\n",
    "def fall_vel(time, g=-9.81):\n",
    "    v_f = time * g\n",
    "    return v_f\n",
    "\n",
    "\n",
    "fall_vel(3, g=-3.72)"
   ]
  },
  {
   "cell_type": "code",
   "execution_count": 22,
   "metadata": {},
   "outputs": [
    {
     "name": "stdout",
     "output_type": "stream",
     "text": [
      "65 97 122\n",
      "A a z\n"
     ]
    }
   ],
   "source": [
    "# ASCII\n",
    "\n",
    "print(ord(\"A\"), ord(\"a\"), ord(\"z\"))\n",
    "\n",
    "print(chr(65), chr(97), chr(122))"
   ]
  },
  {
   "cell_type": "code",
   "execution_count": 28,
   "metadata": {},
   "outputs": [
    {
     "name": "stdout",
     "output_type": "stream",
     "text": [
      "Hello John! Your age is 67, you live in Paris\n"
     ]
    }
   ],
   "source": [
    "# f-string\n",
    "\n",
    "name = \"John\"\n",
    "age = 67\n",
    "city = \"Paris\"\n",
    "\n",
    "msg = \"Hello \" + name + \"!\"\n",
    "\n",
    "msg = f\"Hello {name}! Your age is {age}, you live in {city}\"\n",
    "\n",
    "#msg = \"Hello {}! Your age is {}, you live in {}\".format(name, age, city)\n",
    "\n",
    "print(msg)"
   ]
  },
  {
   "attachments": {},
   "cell_type": "markdown",
   "metadata": {},
   "source": [
    "### AoC - Day 3 Challenge\n",
    "#### Rucksack Reorganization\n",
    "\n",
    "https://adventofcode.com/2022/day/3"
   ]
  },
  {
   "cell_type": "code",
   "execution_count": 32,
   "metadata": {},
   "outputs": [
    {
     "data": {
      "text/plain": [
       "[('TZZjzzZLfZbzgzZNNJZj', 'wCVbwMmhwCbBpCMMBCbM'),\n",
       " ('qRQPDqnWFQDt', 'CCBQmQwmGGVG'),\n",
       " ('FPllWPDPrnc', 'ZsLVrgSZTSZ')]"
      ]
     },
     "execution_count": 32,
     "metadata": {},
     "output_type": "execute_result"
    }
   ],
   "source": [
    "with open(\"./data_inputs/day03_input.txt\") as f:\n",
    "    input_raw = f.read()\n",
    "\n",
    "rucksacks = input_raw.split(\"\\n\")\n",
    "\n",
    "rucksacks_compartments = []\n",
    "for rucksack in rucksacks:\n",
    "    c_1 = rucksack[:len(rucksack)//2]\n",
    "    c_2 = rucksack[len(rucksack)//2:]\n",
    "    rucksacks_compartments.append((c_1, c_2))\n",
    "\n",
    "rucksacks_compartments[0:3]"
   ]
  },
  {
   "cell_type": "code",
   "execution_count": 33,
   "metadata": {},
   "outputs": [
    {
     "name": "stdout",
     "output_type": "stream",
     "text": [
      "a: 97, z: 122, A: 65, Z: 90\n"
     ]
    }
   ],
   "source": [
    "# ASCII lower case range: 97(a) to 122(z)\n",
    "# ASCII upper case range: 65(A) to 90(Z)\n",
    "# (ord() and chr() are useful here)\n",
    "\n",
    "print(f\"a: {ord('a')}, z: {ord('z')}, A: {ord('A')}, Z: {ord('Z')}\")"
   ]
  },
  {
   "cell_type": "code",
   "execution_count": 38,
   "metadata": {},
   "outputs": [],
   "source": [
    "priorities = {}\n",
    "\n",
    "for i in range(26):\n",
    "    priorities[chr(i+97)] = i+1\n",
    "    priorities[chr(i+65)] = i+27"
   ]
  },
  {
   "cell_type": "code",
   "execution_count": 42,
   "metadata": {},
   "outputs": [
    {
     "name": "stdout",
     "output_type": "stream",
     "text": [
      "Result: 8202\n"
     ]
    }
   ],
   "source": [
    "# ---- Part 1 ----\n",
    "\n",
    "def find_duplicated_rucksack_item(rucksack):\n",
    "    c_1 = rucksack[0]\n",
    "    c_2 = rucksack[1]\n",
    "    \n",
    "    for item in c_1:\n",
    "        if item in c_2:\n",
    "            return item\n",
    "    \n",
    "    return None\n",
    "\n",
    "priority_list = []\n",
    "for rucksack in rucksacks_compartments:\n",
    "    duplicated_item = find_duplicated_rucksack_item(rucksack)\n",
    "    priority_number = priorities[duplicated_item]\n",
    "    priority_list.append(priority_number)\n",
    "\n",
    "print(f\"Result: {sum(priority_list)}\")"
   ]
  },
  {
   "cell_type": "code",
   "execution_count": 48,
   "metadata": {},
   "outputs": [
    {
     "name": "stdout",
     "output_type": "stream",
     "text": [
      "Result 2: 2864\n"
     ]
    }
   ],
   "source": [
    "# ---- Part 2 ----\n",
    "\n",
    "def find_duplicated_group_item(group):\n",
    "    r1 = group[0][0] + group[0][1]\n",
    "    r2 = group[1][0] + group[1][1]\n",
    "    r3 = group[2][0] + group[2][1]\n",
    "\n",
    "    for item in r1:\n",
    "        if item in r2:\n",
    "            if item in r3:\n",
    "                return item\n",
    "    \n",
    "    return None\n",
    "\n",
    "priority_list2 = []\n",
    "for i in range(0, len(rucksacks_compartments), 3):\n",
    "    group = rucksacks_compartments[i:i+3]\n",
    "    duplicated_item = find_duplicated_group_item(group)\n",
    "    priority_number = priorities[duplicated_item]\n",
    "    priority_list2.append(priority_number)\n",
    "\n",
    "print(f\"Result 2: {sum(priority_list2)}\")\n"
   ]
  }
 ],
 "metadata": {
  "kernelspec": {
   "display_name": "Python 3",
   "language": "python",
   "name": "python3"
  },
  "language_info": {
   "codemirror_mode": {
    "name": "ipython",
    "version": 3
   },
   "file_extension": ".py",
   "mimetype": "text/x-python",
   "name": "python",
   "nbconvert_exporter": "python",
   "pygments_lexer": "ipython3",
   "version": "3.11.0"
  },
  "orig_nbformat": 4,
  "vscode": {
   "interpreter": {
    "hash": "3d1899a6c99b9db7e131d4b74e4e1b4f8aa84cf78ca3d48624777d2707d0553f"
   }
  }
 },
 "nbformat": 4,
 "nbformat_minor": 2
}
